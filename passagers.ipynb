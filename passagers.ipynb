{
  "nbformat": 4,
  "nbformat_minor": 0,
  "metadata": {
    "colab": {
      "provenance": [],
      "authorship_tag": "ABX9TyPs54qZx7GgkKUmvcnDZijp",
      "include_colab_link": true
    },
    "kernelspec": {
      "name": "python3",
      "display_name": "Python 3"
    },
    "language_info": {
      "name": "python"
    }
  },
  "cells": [
    {
      "cell_type": "markdown",
      "metadata": {
        "id": "view-in-github",
        "colab_type": "text"
      },
      "source": [
        "<a href=\"https://colab.research.google.com/github/jpbeaud/accident/blob/main/passagers.ipynb\" target=\"_parent\"><img src=\"https://colab.research.google.com/assets/colab-badge.svg\" alt=\"Open In Colab\"/></a>"
      ]
    },
    {
      "cell_type": "code",
      "execution_count": 8,
      "metadata": {
        "id": "HDPMylcdk2ZE",
        "outputId": "7bea86ff-8f91-4b5d-c5c5-6fe322e6b5b2",
        "colab": {
          "base_uri": "https://localhost:8080/"
        }
      },
      "outputs": [
        {
          "output_type": "stream",
          "name": "stdout",
          "text": [
            "Colonnes= Index(['Num_Acc', 'id_usager', 'id_vehicule', 'num_veh', 'place', 'catu',\n",
            "       'grav', 'sexe', 'an_nais', 'trajet', 'secu1', 'secu2', 'secu3', 'locp',\n",
            "       'actp', 'etatp'],\n",
            "      dtype='object')\n",
            "Données=         Num_Acc    id_usager  id_vehicule num_veh  place  catu  grav  sexe  \\\n",
            "0  202300000001  203 851 184  155 680 557     A01      1     1     4     1   \n",
            "1  202300000002  203 851 182  155 680 556     A01      1     1     1     2   \n",
            "2  202300000002  203 851 183  155 680 556     A01     10     3     3     1   \n",
            "3  202300000003  203 851 180  155 680 554     B01      1     1     3     1   \n",
            "4  202300000003  203 851 181  155 680 555     A01      1     1     1     2   \n",
            "\n",
            "   an_nais  trajet  secu1  secu2  secu3  locp actp  etatp  \n",
            "0   1978.0       5      2      0     -1    -1   -1     -1  \n",
            "1   1997.0       9      1      0     -1    -1   -1     -1  \n",
            "2   1997.0       9      0     -1     -1     2    3      1  \n",
            "3   1987.0       0      2      6      0     0    0     -1  \n",
            "4   1984.0       0      1      0      0     0    0     -1  \n",
            "Taille= (125789, 16)\n"
          ]
        }
      ],
      "source": [
        "\n",
        "import pandas as pd\n",
        "from sklearn.model_selection import train_test_split\n",
        "from sklearn.linear_model import LogisticRegression\n",
        "from sklearn.metrics import accuracy_score\n",
        "\n",
        "# Charger les données du Titanic depuis un fichier CSV\n",
        "url = \"https://static.data.gouv.fr/resources/bases-de-donnees-annuelles-des-accidents-corporels-de-la-circulation-routiere-annees-de-2005-a-2023/20241023-153328/usagers-2023.csv\"\n",
        "data = pd.read_csv(url, delimiter=\";\")\n",
        "print(\"Colonnes=\", data.columns)\n",
        "print(\"Données=\", data.head())\n",
        "print(\"Taille=\", data.shape)\n"
      ]
    },
    {
      "cell_type": "markdown",
      "source": [
        "Suppression des colonnes non utiles"
      ],
      "metadata": {
        "id": "oxkEDtdpFpLO"
      }
    },
    {
      "cell_type": "code",
      "source": [
        "data.drop(['Num_Acc', 'id_usager', 'id_vehicule', 'num_veh', 'locp', 'actp', 'etatp'], axis=1, inplace=True)\n",
        "print(\"Taille=\", data.shape)\n",
        "print(\"Colonnes=\", data.columns)\n"
      ],
      "metadata": {
        "id": "_fQOuRaTEpHF",
        "outputId": "48431969-fbb1-4da9-ddb5-043a9c96a12f",
        "colab": {
          "base_uri": "https://localhost:8080/"
        }
      },
      "execution_count": 9,
      "outputs": [
        {
          "output_type": "stream",
          "name": "stdout",
          "text": [
            "Taille= (125789, 9)\n",
            "Colonnes= Index(['place', 'catu', 'grav', 'sexe', 'an_nais', 'trajet', 'secu1', 'secu2',\n",
            "       'secu3'],\n",
            "      dtype='object')\n"
          ]
        }
      ]
    },
    {
      "cell_type": "code",
      "source": [
        "\n",
        "# Sélectionner les caractéristiques et la cible\n",
        "features = ['Pclass', 'Sex', 'Age', 'Siblings/Spouses Aboard', 'Parents/Children Aboard', 'Fare']\n",
        "target = 'catu'\n",
        "\n",
        "# Prétraiter les données\n",
        "data['Sex'] = data['Sex'].map({'male': 0, 'female': 1})\n",
        "data['Age'].fillna(data['Age'].mean(), inplace=True)\n",
        "\n",
        "# Diviser les données en ensembles d'entraînement et de test\n",
        "X_train, X_test, y_train, y_test = train_test_split(data[features], data[target], test_size=0.2, random_state=42)\n",
        "\n",
        "# Créer et entraîner le modèle de régression logistique\n",
        "model = LogisticRegression(max_iter=200)\n",
        "model.fit(X_train, y_train)\n",
        "\n",
        "# Prédire les résultats sur l'ensemble de test\n",
        "y_pred = model.predict(X_test)\n",
        "\n",
        "# Calculer la précision du modèle\n",
        "accuracy = accuracy_score(y_test, y_pred)\n",
        "print(f\"Précision du modèle: {accuracy:.2f}\")\n",
        "\n",
        "# Exemple de prédiction pour un passager fictif\n",
        "passager_fictif = pd.DataFrame({\n",
        "    'Pclass': [3],\n",
        "    'Sex': [0],\n",
        "    'Age': [25],\n",
        "    'Siblings/Spouses Aboard': [0],\n",
        "    'Parents/Children Aboard': [0],\n",
        "    'Fare': [7.25]\n",
        "})\n",
        "\n",
        "prediction = model.predict(passager_fictif)\n",
        "print(f\"Le passager fictif a {'survécu' if prediction[0] == 1 else 'péri'}\")\n"
      ],
      "metadata": {
        "id": "vxWEOIbkD_5u"
      },
      "execution_count": null,
      "outputs": []
    }
  ]
}